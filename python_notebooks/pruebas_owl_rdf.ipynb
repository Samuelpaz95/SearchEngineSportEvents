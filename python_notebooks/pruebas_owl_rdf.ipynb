{
 "cells": [
  {
   "cell_type": "code",
   "execution_count": 2,
   "source": [
    "from rdflib import Graph, URIRef"
   ],
   "outputs": [],
   "metadata": {}
  },
  {
   "cell_type": "code",
   "execution_count": 6,
   "source": [
    "graph = Graph()\n",
    "_ = graph.parse('https://dbpedia.org/ontology/firstWinner')\n",
    "for index, (subject, predicate, obj) in enumerate(graph):\n",
    "    print(f'subject: {subject} \\npredicate: {predicate} \\nobject: {obj}')\n",
    "    print('-'*30)"
   ],
   "outputs": [
    {
     "output_type": "stream",
     "name": "stdout",
     "text": [
      "subject: http://dbpedia.org/ontology/firstWinner \n",
      "predicate: http://www.w3.org/2007/05/powder-s#describedby \n",
      "object: http://dbpedia.org/ontology/data/definitions.ttl\n",
      "------------------------------\n",
      "subject: http://dbpedia.org/ontology/firstWinner \n",
      "predicate: http://www.w3.org/2000/01/rdf-schema#subPropertyOf \n",
      "object: http://www.ontologydesignpatterns.org/ont/dul/DUL.owl#hasParticipant\n",
      "------------------------------\n",
      "subject: http://dbpedia.org/ontology/firstWinner \n",
      "predicate: http://www.w3.org/2000/01/rdf-schema#label \n",
      "object: first winner\n",
      "------------------------------\n",
      "subject: http://dbpedia.org/ontology/firstWinner \n",
      "predicate: http://www.w3.org/2002/07/owl#sameAs \n",
      "object: http://dbpedia.org/ontology/firstWinner\n",
      "------------------------------\n",
      "subject: http://dbpedia.org/ontology/ \n",
      "predicate: http://open.vocab.org/terms/defines \n",
      "object: http://dbpedia.org/ontology/firstWinner\n",
      "------------------------------\n",
      "subject: http://dbpedia.org/ontology/firstWinner \n",
      "predicate: http://www.w3.org/1999/02/22-rdf-syntax-ns#type \n",
      "object: http://www.w3.org/2002/07/owl#ObjectProperty\n",
      "------------------------------\n",
      "subject: http://dbpedia.org/ontology/firstWinner \n",
      "predicate: http://www.w3.org/2000/01/rdf-schema#range \n",
      "object: http://dbpedia.org/ontology/Person\n",
      "------------------------------\n",
      "subject: http://dbpedia.org/ontology/firstWinner \n",
      "predicate: http://www.w3.org/2000/01/rdf-schema#domain \n",
      "object: http://dbpedia.org/ontology/Race\n",
      "------------------------------\n",
      "subject: http://dbpedia.org/ontology/data/definitions.ttl \n",
      "predicate: http://open.vocab.org/terms/describes \n",
      "object: http://dbpedia.org/ontology/firstWinner\n",
      "------------------------------\n",
      "subject: http://dbpedia.org/ontology/firstWinner \n",
      "predicate: http://www.w3.org/2000/01/rdf-schema#isDefinedBy \n",
      "object: http://dbpedia.org/ontology/\n",
      "------------------------------\n",
      "subject: http://dbpedia.org/ontology/firstWinner \n",
      "predicate: http://www.w3.org/ns/prov#wasDerivedFrom \n",
      "object: http://mappings.dbpedia.org/index.php/OntologyProperty:firstWinner\n",
      "------------------------------\n",
      "subject: http://dbpedia.org/ontology/firstWinner \n",
      "predicate: http://www.w3.org/1999/02/22-rdf-syntax-ns#type \n",
      "object: http://www.w3.org/1999/02/22-rdf-syntax-ns#Property\n",
      "------------------------------\n",
      "subject: http://dbpedia.org/ontology/firstWinner \n",
      "predicate: http://www.w3.org/2000/01/rdf-schema#label \n",
      "object: πρώτος νικητής\n",
      "------------------------------\n",
      "subject: http://dbpedia.org/ontology/firstWinner \n",
      "predicate: http://www.w3.org/2000/01/rdf-schema#label \n",
      "object: erster Gewinner\n",
      "------------------------------\n"
     ]
    }
   ],
   "metadata": {}
  },
  {
   "cell_type": "code",
   "execution_count": null,
   "source": [],
   "outputs": [],
   "metadata": {}
  },
  {
   "cell_type": "code",
   "execution_count": 13,
   "source": [
    "print(f'graph has {len(graph)} facts')"
   ],
   "outputs": [
    {
     "output_type": "stream",
     "name": "stdout",
     "text": [
      "graph has 40 facts\n"
     ]
    }
   ],
   "metadata": {}
  },
  {
   "cell_type": "code",
   "execution_count": 4,
   "source": [
    "subject = URIRef('http://dbpedia.org/ontology/CyclingRace')\n",
    "predicate = URIRef('http://www.w3.org/2000/01/rdf-schema#label')\n",
    "for label in graph.objects(subject, predicate):\n",
    "    print(label.value, label.language)"
   ],
   "outputs": [],
   "metadata": {}
  },
  {
   "cell_type": "code",
   "execution_count": 15,
   "source": [
    "label.value"
   ],
   "outputs": [
    {
     "output_type": "execute_result",
     "data": {
      "text/plain": [
       "'Sportereignis'"
      ]
     },
     "metadata": {},
     "execution_count": 15
    }
   ],
   "metadata": {}
  },
  {
   "cell_type": "code",
   "execution_count": 5,
   "source": [
    "query_res = graph.query(\"\"\"\n",
    "    SELECT ?label\n",
    "    WHERE {\n",
    "        ?CyclingRace rdfs:label ?label .\n",
    "    }\n",
    "\"\"\")\n",
    "list(query_res)"
   ],
   "outputs": [
    {
     "output_type": "execute_result",
     "data": {
      "text/plain": [
       "[(rdflib.term.Literal('αγώνας', lang='el')),\n",
       " (rdflib.term.Literal('race', lang='en')),\n",
       " (rdflib.term.Literal('course', lang='fr')),\n",
       " (rdflib.term.Literal('レース', lang='ja')),\n",
       " (rdflib.term.Literal('rás', lang='ga')),\n",
       " (rdflib.term.Literal('Rennen', lang='de')),\n",
       " (rdflib.term.Literal('race', lang='nl'))]"
      ]
     },
     "metadata": {},
     "execution_count": 5
    }
   ],
   "metadata": {}
  },
  {
   "cell_type": "code",
   "execution_count": null,
   "source": [],
   "outputs": [],
   "metadata": {}
  }
 ],
 "metadata": {
  "interpreter": {
   "hash": "364e47f7c5c007b934f6ce5376a59c7913861dfa3941f8de6cab0190d5aaf47a"
  },
  "kernelspec": {
   "display_name": "Python 3.8.9 64-bit ('wenv': venv)",
   "name": "python3"
  },
  "language_info": {
   "codemirror_mode": {
    "name": "ipython",
    "version": 3
   },
   "file_extension": ".py",
   "mimetype": "text/x-python",
   "name": "python",
   "nbconvert_exporter": "python",
   "pygments_lexer": "ipython3",
   "version": "3.8.9"
  },
  "orig_nbformat": 4
 },
 "nbformat": 4,
 "nbformat_minor": 2
}